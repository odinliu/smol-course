{
 "cells": [
  {
   "cell_type": "markdown",
   "metadata": {},
   "source": [
    "# Supervised Fine-Tuning with SFTTrainer\n",
    "\n",
    "This notebook demonstrates how to fine-tune the `HuggingFaceTB/SmolLM2-135M` model using the `SFTTrainer` from the `trl` library. The notebook cells run and will finetune the model. You can select your difficulty by trying out different datasets.\n",
    "\n",
    "<div style='background-color: lightblue; padding: 10px; border-radius: 5px; margin-bottom: 20px; color:black'>\n",
    "    <h2 style='margin: 0;color:blue'>Exercise: Fine-Tuning SmolLM2 with SFTTrainer</h2>\n",
    "    <p>Take a dataset from the Hugging Face hub and finetune a model on it. </p> \n",
    "    <p><b>Difficulty Levels</b></p>\n",
    "    <p>🐢 Use the `HuggingFaceTB/smoltalk` dataset</p>\n",
    "    <p>🐕 Try out the `bigcode/the-stack-smol` dataset and finetune a code generation model on a specific subset `data/python`.</p>\n",
    "    <p>🦁 Select a dataset that relates to a real world use case your interested in</p>\n",
    "</div>\n"
   ]
  },
  {
   "cell_type": "code",
   "execution_count": 1,
   "metadata": {},
   "outputs": [
    {
     "name": "stderr",
     "output_type": "stream",
     "text": [
      "Note: Environment variable`HF_TOKEN` is set and is the current active token independently from the token you've just configured.\n"
     ]
    }
   ],
   "source": [
    "# Install the requirements in Google Colab\n",
    "# !pip install transformers datasets trl huggingface_hub\n",
    "\n",
    "# Authenticate to Hugging Face\n",
    "\n",
    "from huggingface_hub import login\n",
    "from dotenv import load_dotenv\n",
    "import os\n",
    "\n",
    "load_dotenv(override=True)\n",
    "login(token=os.getenv(\"HF_TOKEN\"))\n",
    "\n",
    "# for convenience you can create an environment variable containing your hub token as HF_TOKEN"
   ]
  },
  {
   "cell_type": "code",
   "execution_count": 2,
   "metadata": {},
   "outputs": [],
   "source": [
    "# Import necessary libraries\n",
    "from transformers import AutoModelForCausalLM, AutoTokenizer\n",
    "from datasets import load_dataset\n",
    "from trl import SFTConfig, SFTTrainer, setup_chat_format\n",
    "import torch\n",
    "\n",
    "device = (\n",
    "    \"cuda\"\n",
    "    if torch.cuda.is_available()\n",
    "    else \"mps\" if torch.backends.mps.is_available() else \"cpu\"\n",
    ")\n",
    "\n",
    "# Load the model and tokenizer\n",
    "model_name = \"HuggingFaceTB/SmolLM2-135M\"\n",
    "model = AutoModelForCausalLM.from_pretrained(\n",
    "    pretrained_model_name_or_path=model_name\n",
    ").to(device)\n",
    "tokenizer = AutoTokenizer.from_pretrained(pretrained_model_name_or_path=model_name)\n",
    "\n",
    "# Set up the chat format\n",
    "model, tokenizer = setup_chat_format(model=model, tokenizer=tokenizer)\n",
    "\n",
    "# Set our name for the finetune to be saved &/ uploaded to\n",
    "finetune_name = \"SmolLM2-FT-MyDataset\"\n",
    "finetune_tags = [\"smol-course\", \"module_1\"]"
   ]
  },
  {
   "cell_type": "markdown",
   "metadata": {},
   "source": [
    "# Generate with the base model\n",
    "\n",
    "Here we will try out the base model which does not have a chat template.\n"
   ]
  },
  {
   "cell_type": "code",
   "execution_count": 3,
   "metadata": {},
   "outputs": [
    {
     "name": "stdout",
     "output_type": "stream",
     "text": [
      "Before training:\n",
      "user\n",
      "Write a haiku about programming\n",
      "Write a haiku about programming\n",
      "Write a haiku about programming\n",
      "Write a haiku about programming\n",
      "Write a haiku about programming\n",
      "Write a haiku about programming\n",
      "Write a haiku about programming\n",
      "Write a haiku about programming\n",
      "Write a haiku about programming\n",
      "Write a haiku about programming\n",
      "Write a haiku about programming\n",
      "Write a haiku about programming\n",
      "Write a haiku about programming\n",
      "Write a haiku about programming\n",
      "Write a haiku about programming\n",
      "Write a\n"
     ]
    }
   ],
   "source": [
    "# Let's test the base model before training\n",
    "prompt = \"Write a haiku about programming\"\n",
    "\n",
    "# Format with template\n",
    "messages = [{\"role\": \"user\", \"content\": prompt}]\n",
    "formatted_prompt = tokenizer.apply_chat_template(messages, tokenize=False)\n",
    "\n",
    "# Generate response\n",
    "inputs = tokenizer(formatted_prompt, return_tensors=\"pt\").to(device)\n",
    "outputs = model.generate(**inputs, max_new_tokens=100)\n",
    "print(\"Before training:\")\n",
    "print(tokenizer.decode(outputs[0], skip_special_tokens=True))"
   ]
  },
  {
   "cell_type": "markdown",
   "metadata": {},
   "source": [
    "## Dataset Preparation\n",
    "\n",
    "We will load a sample dataset and format it for training. The dataset should be structured with input-output pairs, where each input is a prompt and the output is the expected response from the model.\n",
    "\n",
    "**TRL will format input messages based on the model's chat templates.** They need to be represented as a list of dictionaries with the keys: `role` and `content`,.\n"
   ]
  },
  {
   "cell_type": "code",
   "execution_count": 4,
   "metadata": {},
   "outputs": [
    {
     "name": "stderr",
     "output_type": "stream",
     "text": [
      "huggingface/tokenizers: The current process just got forked, after parallelism has already been used. Disabling parallelism to avoid deadlocks...\n",
      "To disable this warning, you can either:\n",
      "\t- Avoid using `tokenizers` before the fork if possible\n",
      "\t- Explicitly set the environment variable TOKENIZERS_PARALLELISM=(true | false)\n"
     ]
    }
   ],
   "source": [
    "# Load a sample dataset\n",
    "from datasets import load_dataset\n",
    "\n",
    "# TODO: define your dataset and config using the path and name parameters\n",
    "ds = load_dataset(path=\"HuggingFaceTB/smoltalk\", name=\"everyday-conversations\")"
   ]
  },
  {
   "cell_type": "code",
   "execution_count": 5,
   "metadata": {},
   "outputs": [],
   "source": [
    "# TODO: 🦁 If your dataset is not in a format that TRL can convert to the chat template, you will need to process it. Refer to the [module](../chat_templates.md)\n",
    "def process_dataset(sample):\n",
    "    # TODO: 🐢 Convert the sample into a chat format\n",
    "    # use the tokenizer's method to apply the chat template\n",
    "    input_text = tokenizer.apply_chat_template(\n",
    "        sample[\"messages\"],\n",
    "        add_generation_prompt=False,\n",
    "        tokenize=False,\n",
    "    )\n",
    "    return {\n",
    "        \"formatted_chat\": input_text,\n",
    "    }\n",
    "\n",
    "\n",
    "ds = ds.map(process_dataset)"
   ]
  },
  {
   "cell_type": "code",
   "execution_count": 6,
   "metadata": {},
   "outputs": [
    {
     "name": "stdout",
     "output_type": "stream",
     "text": [
      "DatasetDict({\n",
      "    train: Dataset({\n",
      "        features: ['full_topic', 'messages', 'formatted_chat'],\n",
      "        num_rows: 2260\n",
      "    })\n",
      "    test: Dataset({\n",
      "        features: ['full_topic', 'messages', 'formatted_chat'],\n",
      "        num_rows: 119\n",
      "    })\n",
      "})\n"
     ]
    }
   ],
   "source": [
    "print(ds)"
   ]
  },
  {
   "cell_type": "markdown",
   "metadata": {},
   "source": [
    "## Configuring the SFTTrainer\n",
    "\n",
    "The `SFTTrainer` is configured with various parameters that control the training process. These include the number of training steps, batch size, learning rate, and evaluation strategy. Adjust these parameters based on your specific requirements and computational resources.\n"
   ]
  },
  {
   "cell_type": "code",
   "execution_count": 7,
   "metadata": {},
   "outputs": [
    {
     "name": "stderr",
     "output_type": "stream",
     "text": [
      "/Users/bytedance/workspace/opensource/smol-course/.venv/lib/python3.11/site-packages/transformers/training_args.py:1568: FutureWarning: `evaluation_strategy` is deprecated and will be removed in version 4.46 of 🤗 Transformers. Use `eval_strategy` instead\n",
      "  warnings.warn(\n",
      "/Users/bytedance/workspace/opensource/smol-course/.venv/lib/python3.11/site-packages/transformers/training_args.py:2248: UserWarning: `use_mps_device` is deprecated and will be removed in version 5.0 of 🤗 Transformers. `mps` device will be used by default if available similar to the way `cuda` device is used.Therefore, no action from user is required. \n",
      "  warnings.warn(\n",
      "/Users/bytedance/workspace/opensource/smol-course/.venv/lib/python3.11/site-packages/trl/trainer/sft_trainer.py:309: UserWarning: You didn't pass a `max_seq_length` argument to the SFTTrainer, this will default to 1024\n",
      "  warnings.warn(\n"
     ]
    },
    {
     "data": {
      "application/vnd.jupyter.widget-view+json": {
       "model_id": "51efb30ea2c34b5ca5b52b935dcc2fb6",
       "version_major": 2,
       "version_minor": 0
      },
      "text/plain": [
       "Map:   0%|          | 0/2260 [00:00<?, ? examples/s]"
      ]
     },
     "metadata": {},
     "output_type": "display_data"
    },
    {
     "data": {
      "application/vnd.jupyter.widget-view+json": {
       "model_id": "b2a58ffeda52457d8bdd78cf50b29d9c",
       "version_major": 2,
       "version_minor": 0
      },
      "text/plain": [
       "Map:   0%|          | 0/119 [00:00<?, ? examples/s]"
      ]
     },
     "metadata": {},
     "output_type": "display_data"
    },
    {
     "name": "stderr",
     "output_type": "stream",
     "text": [
      "max_steps is given, it will override any value given in num_train_epochs\n"
     ]
    }
   ],
   "source": [
    "# Configure the SFTTrainer\n",
    "sft_config = SFTConfig(\n",
    "    output_dir=\"./sft_output\",\n",
    "    max_steps=1000,  # Adjust based on dataset size and desired training duration\n",
    "    per_device_train_batch_size=4,  # Set according to your GPU memory capacity\n",
    "    learning_rate=5e-5,  # Common starting point for fine-tuning\n",
    "    logging_steps=10,  # Frequency of logging training metrics\n",
    "    save_steps=100,  # Frequency of saving model checkpoints\n",
    "    evaluation_strategy=\"steps\",  # Evaluate the model at regular intervals\n",
    "    eval_steps=50,  # Frequency of evaluation\n",
    "    use_mps_device=(\n",
    "        True if device == \"mps\" else False\n",
    "    ),  # Use MPS for mixed precision training\n",
    "    hub_model_id=finetune_name,  # Set a unique name for your model\n",
    ")\n",
    "\n",
    "# Initialize the SFTTrainer\n",
    "trainer = SFTTrainer(\n",
    "    model=model,\n",
    "    args=sft_config,\n",
    "    train_dataset=ds[\"train\"],\n",
    "    tokenizer=tokenizer,\n",
    "    eval_dataset=ds[\"test\"],\n",
    ")\n",
    "\n",
    "# TODO: 🦁 🐕 align the SFTTrainer params with your chosen dataset. For example, if you are using the `bigcode/the-stack-smol` dataset, you will need to choose the `content` column`"
   ]
  },
  {
   "cell_type": "markdown",
   "metadata": {},
   "source": [
    "## Training the Model\n",
    "\n",
    "With the trainer configured, we can now proceed to train the model. The training process will involve iterating over the dataset, computing the loss, and updating the model's parameters to minimize this loss.\n"
   ]
  },
  {
   "cell_type": "code",
   "execution_count": 8,
   "metadata": {},
   "outputs": [
    {
     "data": {
      "application/vnd.jupyter.widget-view+json": {
       "model_id": "3e209229cca446339e7f2cfe5a95b7e8",
       "version_major": 2,
       "version_minor": 0
      },
      "text/plain": [
       "  0%|          | 0/1000 [00:00<?, ?it/s]"
      ]
     },
     "metadata": {},
     "output_type": "display_data"
    },
    {
     "name": "stdout",
     "output_type": "stream",
     "text": [
      "{'loss': 1.6774, 'grad_norm': 2.720459461212158, 'learning_rate': 4.9500000000000004e-05, 'epoch': 0.02}\n",
      "{'loss': 1.2563, 'grad_norm': 2.644317865371704, 'learning_rate': 4.9e-05, 'epoch': 0.04}\n",
      "{'loss': 1.2339, 'grad_norm': 2.3945717811584473, 'learning_rate': 4.85e-05, 'epoch': 0.05}\n",
      "{'loss': 1.161, 'grad_norm': 2.502696990966797, 'learning_rate': 4.8e-05, 'epoch': 0.07}\n",
      "{'loss': 1.0657, 'grad_norm': 2.2998483180999756, 'learning_rate': 4.75e-05, 'epoch': 0.09}\n"
     ]
    },
    {
     "data": {
      "application/vnd.jupyter.widget-view+json": {
       "model_id": "6bc7d85600a04b219125f59055e2a2d4",
       "version_major": 2,
       "version_minor": 0
      },
      "text/plain": [
       "  0%|          | 0/15 [00:00<?, ?it/s]"
      ]
     },
     "metadata": {},
     "output_type": "display_data"
    },
    {
     "name": "stdout",
     "output_type": "stream",
     "text": [
      "{'eval_loss': 1.158974528312683, 'eval_runtime': 43.7803, 'eval_samples_per_second': 2.718, 'eval_steps_per_second': 0.343, 'epoch': 0.09}\n",
      "{'loss': 1.1566, 'grad_norm': 2.2885255813598633, 'learning_rate': 4.7e-05, 'epoch': 0.11}\n",
      "{'loss': 1.1648, 'grad_norm': 2.012310266494751, 'learning_rate': 4.6500000000000005e-05, 'epoch': 0.12}\n",
      "{'loss': 1.1244, 'grad_norm': 2.128387451171875, 'learning_rate': 4.600000000000001e-05, 'epoch': 0.14}\n",
      "{'loss': 1.086, 'grad_norm': 2.2242846488952637, 'learning_rate': 4.55e-05, 'epoch': 0.16}\n",
      "{'loss': 1.1116, 'grad_norm': 2.080740213394165, 'learning_rate': 4.5e-05, 'epoch': 0.18}\n"
     ]
    },
    {
     "data": {
      "application/vnd.jupyter.widget-view+json": {
       "model_id": "590719a24a0b409e9109e455ac5fd13d",
       "version_major": 2,
       "version_minor": 0
      },
      "text/plain": [
       "  0%|          | 0/15 [00:00<?, ?it/s]"
      ]
     },
     "metadata": {},
     "output_type": "display_data"
    },
    {
     "name": "stdout",
     "output_type": "stream",
     "text": [
      "{'eval_loss': 1.1240627765655518, 'eval_runtime': 365.4847, 'eval_samples_per_second': 0.326, 'eval_steps_per_second': 0.041, 'epoch': 0.18}\n",
      "{'loss': 1.0621, 'grad_norm': 2.050217628479004, 'learning_rate': 4.4500000000000004e-05, 'epoch': 0.19}\n",
      "{'loss': 1.1234, 'grad_norm': 2.0778660774230957, 'learning_rate': 4.4000000000000006e-05, 'epoch': 0.21}\n",
      "{'loss': 1.0921, 'grad_norm': 1.9966017007827759, 'learning_rate': 4.35e-05, 'epoch': 0.23}\n",
      "{'loss': 1.0627, 'grad_norm': 2.129850387573242, 'learning_rate': 4.3e-05, 'epoch': 0.25}\n",
      "{'loss': 1.0624, 'grad_norm': 2.0639727115631104, 'learning_rate': 4.25e-05, 'epoch': 0.27}\n"
     ]
    },
    {
     "data": {
      "application/vnd.jupyter.widget-view+json": {
       "model_id": "79534f8f8f8d49c2b5c0dd895e963c3d",
       "version_major": 2,
       "version_minor": 0
      },
      "text/plain": [
       "  0%|          | 0/15 [00:00<?, ?it/s]"
      ]
     },
     "metadata": {},
     "output_type": "display_data"
    },
    {
     "name": "stdout",
     "output_type": "stream",
     "text": [
      "{'eval_loss': 1.0954868793487549, 'eval_runtime': 148.4409, 'eval_samples_per_second': 0.802, 'eval_steps_per_second': 0.101, 'epoch': 0.27}\n",
      "{'loss': 1.0679, 'grad_norm': 2.0234410762786865, 'learning_rate': 4.2e-05, 'epoch': 0.28}\n",
      "{'loss': 1.0966, 'grad_norm': 2.064764976501465, 'learning_rate': 4.15e-05, 'epoch': 0.3}\n",
      "{'loss': 1.0368, 'grad_norm': 1.7580859661102295, 'learning_rate': 4.1e-05, 'epoch': 0.32}\n",
      "{'loss': 1.0548, 'grad_norm': 1.9994348287582397, 'learning_rate': 4.05e-05, 'epoch': 0.34}\n",
      "{'loss': 1.0482, 'grad_norm': 1.8690769672393799, 'learning_rate': 4e-05, 'epoch': 0.35}\n"
     ]
    },
    {
     "data": {
      "application/vnd.jupyter.widget-view+json": {
       "model_id": "06f687b05e424c238e6317ee43642ce8",
       "version_major": 2,
       "version_minor": 0
      },
      "text/plain": [
       "  0%|          | 0/15 [00:00<?, ?it/s]"
      ]
     },
     "metadata": {},
     "output_type": "display_data"
    },
    {
     "name": "stdout",
     "output_type": "stream",
     "text": [
      "{'eval_loss': 1.0797035694122314, 'eval_runtime': 9.0006, 'eval_samples_per_second': 13.221, 'eval_steps_per_second': 1.667, 'epoch': 0.35}\n",
      "{'loss': 1.0709, 'grad_norm': 1.9664990901947021, 'learning_rate': 3.9500000000000005e-05, 'epoch': 0.37}\n",
      "{'loss': 1.1066, 'grad_norm': 2.023913860321045, 'learning_rate': 3.9000000000000006e-05, 'epoch': 0.39}\n",
      "{'loss': 1.0444, 'grad_norm': 1.9773998260498047, 'learning_rate': 3.85e-05, 'epoch': 0.41}\n",
      "{'loss': 1.0338, 'grad_norm': 1.9441745281219482, 'learning_rate': 3.8e-05, 'epoch': 0.42}\n",
      "{'loss': 1.0412, 'grad_norm': 1.9525905847549438, 'learning_rate': 3.7500000000000003e-05, 'epoch': 0.44}\n"
     ]
    },
    {
     "data": {
      "application/vnd.jupyter.widget-view+json": {
       "model_id": "ace3613674b04430b4371d11054ccd2e",
       "version_major": 2,
       "version_minor": 0
      },
      "text/plain": [
       "  0%|          | 0/15 [00:00<?, ?it/s]"
      ]
     },
     "metadata": {},
     "output_type": "display_data"
    },
    {
     "name": "stdout",
     "output_type": "stream",
     "text": [
      "{'eval_loss': 1.0704561471939087, 'eval_runtime': 8.2795, 'eval_samples_per_second': 14.373, 'eval_steps_per_second': 1.812, 'epoch': 0.44}\n",
      "{'loss': 1.0646, 'grad_norm': 1.8650015592575073, 'learning_rate': 3.7e-05, 'epoch': 0.46}\n",
      "{'loss': 1.0536, 'grad_norm': 1.8908236026763916, 'learning_rate': 3.65e-05, 'epoch': 0.48}\n",
      "{'loss': 1.0613, 'grad_norm': 1.9997249841690063, 'learning_rate': 3.6e-05, 'epoch': 0.5}\n",
      "{'loss': 1.0283, 'grad_norm': 1.8738627433776855, 'learning_rate': 3.55e-05, 'epoch': 0.51}\n",
      "{'loss': 1.0292, 'grad_norm': 1.829765796661377, 'learning_rate': 3.5e-05, 'epoch': 0.53}\n"
     ]
    },
    {
     "data": {
      "application/vnd.jupyter.widget-view+json": {
       "model_id": "46c7295087d44389b3bc841101efc549",
       "version_major": 2,
       "version_minor": 0
      },
      "text/plain": [
       "  0%|          | 0/15 [00:00<?, ?it/s]"
      ]
     },
     "metadata": {},
     "output_type": "display_data"
    },
    {
     "name": "stdout",
     "output_type": "stream",
     "text": [
      "{'eval_loss': 1.0614750385284424, 'eval_runtime': 9.1435, 'eval_samples_per_second': 13.015, 'eval_steps_per_second': 1.641, 'epoch': 0.53}\n",
      "{'loss': 1.0241, 'grad_norm': 2.1467320919036865, 'learning_rate': 3.45e-05, 'epoch': 0.55}\n",
      "{'loss': 1.0228, 'grad_norm': 1.9443597793579102, 'learning_rate': 3.4000000000000007e-05, 'epoch': 0.57}\n",
      "{'loss': 1.076, 'grad_norm': 1.9638274908065796, 'learning_rate': 3.35e-05, 'epoch': 0.58}\n",
      "{'loss': 1.0508, 'grad_norm': 1.8710143566131592, 'learning_rate': 3.3e-05, 'epoch': 0.6}\n",
      "{'loss': 1.0034, 'grad_norm': 2.014474630355835, 'learning_rate': 3.2500000000000004e-05, 'epoch': 0.62}\n"
     ]
    },
    {
     "data": {
      "application/vnd.jupyter.widget-view+json": {
       "model_id": "923738dce49543e9829cdf49cf33b093",
       "version_major": 2,
       "version_minor": 0
      },
      "text/plain": [
       "  0%|          | 0/15 [00:00<?, ?it/s]"
      ]
     },
     "metadata": {},
     "output_type": "display_data"
    },
    {
     "name": "stdout",
     "output_type": "stream",
     "text": [
      "{'eval_loss': 1.054750680923462, 'eval_runtime': 8.3255, 'eval_samples_per_second': 14.293, 'eval_steps_per_second': 1.802, 'epoch': 0.62}\n",
      "{'loss': 1.0558, 'grad_norm': 1.7781716585159302, 'learning_rate': 3.2000000000000005e-05, 'epoch': 0.64}\n",
      "{'loss': 1.073, 'grad_norm': 2.164541482925415, 'learning_rate': 3.15e-05, 'epoch': 0.65}\n",
      "{'loss': 1.0177, 'grad_norm': 2.0232326984405518, 'learning_rate': 3.1e-05, 'epoch': 0.67}\n",
      "{'loss': 0.9862, 'grad_norm': 1.7659885883331299, 'learning_rate': 3.05e-05, 'epoch': 0.69}\n",
      "{'loss': 1.0065, 'grad_norm': 1.903610348701477, 'learning_rate': 3e-05, 'epoch': 0.71}\n"
     ]
    },
    {
     "data": {
      "application/vnd.jupyter.widget-view+json": {
       "model_id": "9aad9287707647edb1be4f691d9baa43",
       "version_major": 2,
       "version_minor": 0
      },
      "text/plain": [
       "  0%|          | 0/15 [00:00<?, ?it/s]"
      ]
     },
     "metadata": {},
     "output_type": "display_data"
    },
    {
     "name": "stdout",
     "output_type": "stream",
     "text": [
      "{'eval_loss': 1.0507938861846924, 'eval_runtime': 8.2522, 'eval_samples_per_second': 14.42, 'eval_steps_per_second': 1.818, 'epoch': 0.71}\n",
      "{'loss': 1.0134, 'grad_norm': 1.917432188987732, 'learning_rate': 2.95e-05, 'epoch': 0.73}\n",
      "{'loss': 0.9992, 'grad_norm': 2.0371129512786865, 'learning_rate': 2.9e-05, 'epoch': 0.74}\n",
      "{'loss': 1.0716, 'grad_norm': 2.02150297164917, 'learning_rate': 2.8499999999999998e-05, 'epoch': 0.76}\n",
      "{'loss': 1.0657, 'grad_norm': 1.980255365371704, 'learning_rate': 2.8000000000000003e-05, 'epoch': 0.78}\n",
      "{'loss': 1.0211, 'grad_norm': 1.8330879211425781, 'learning_rate': 2.7500000000000004e-05, 'epoch': 0.8}\n"
     ]
    },
    {
     "data": {
      "application/vnd.jupyter.widget-view+json": {
       "model_id": "e319544d881e48e4b56ae29a27d7d03b",
       "version_major": 2,
       "version_minor": 0
      },
      "text/plain": [
       "  0%|          | 0/15 [00:00<?, ?it/s]"
      ]
     },
     "metadata": {},
     "output_type": "display_data"
    },
    {
     "name": "stdout",
     "output_type": "stream",
     "text": [
      "{'eval_loss': 1.042634129524231, 'eval_runtime': 8.8683, 'eval_samples_per_second': 13.419, 'eval_steps_per_second': 1.691, 'epoch': 0.8}\n",
      "{'loss': 1.0586, 'grad_norm': 2.046020746231079, 'learning_rate': 2.7000000000000002e-05, 'epoch': 0.81}\n",
      "{'loss': 1.0204, 'grad_norm': 1.9825422763824463, 'learning_rate': 2.6500000000000004e-05, 'epoch': 0.83}\n",
      "{'loss': 1.0521, 'grad_norm': 2.020275831222534, 'learning_rate': 2.6000000000000002e-05, 'epoch': 0.85}\n",
      "{'loss': 1.0503, 'grad_norm': 1.7881500720977783, 'learning_rate': 2.5500000000000003e-05, 'epoch': 0.87}\n",
      "{'loss': 1.0763, 'grad_norm': 2.0215394496917725, 'learning_rate': 2.5e-05, 'epoch': 0.88}\n"
     ]
    },
    {
     "data": {
      "application/vnd.jupyter.widget-view+json": {
       "model_id": "b724b97e413f4e76b3ff4d22b1cb96e5",
       "version_major": 2,
       "version_minor": 0
      },
      "text/plain": [
       "  0%|          | 0/15 [00:00<?, ?it/s]"
      ]
     },
     "metadata": {},
     "output_type": "display_data"
    },
    {
     "name": "stdout",
     "output_type": "stream",
     "text": [
      "{'eval_loss': 1.033727765083313, 'eval_runtime': 9.0156, 'eval_samples_per_second': 13.199, 'eval_steps_per_second': 1.664, 'epoch': 0.88}\n",
      "{'loss': 1.0084, 'grad_norm': 1.8724101781845093, 'learning_rate': 2.45e-05, 'epoch': 0.9}\n",
      "{'loss': 1.0324, 'grad_norm': 2.0850741863250732, 'learning_rate': 2.4e-05, 'epoch': 0.92}\n",
      "{'loss': 0.9957, 'grad_norm': 1.7871888875961304, 'learning_rate': 2.35e-05, 'epoch': 0.94}\n",
      "{'loss': 1.0472, 'grad_norm': 1.9165380001068115, 'learning_rate': 2.3000000000000003e-05, 'epoch': 0.96}\n",
      "{'loss': 0.9907, 'grad_norm': 1.8369197845458984, 'learning_rate': 2.25e-05, 'epoch': 0.97}\n"
     ]
    },
    {
     "data": {
      "application/vnd.jupyter.widget-view+json": {
       "model_id": "be2a5dca76ac4cf68bdfd1da5074ce3f",
       "version_major": 2,
       "version_minor": 0
      },
      "text/plain": [
       "  0%|          | 0/15 [00:00<?, ?it/s]"
      ]
     },
     "metadata": {},
     "output_type": "display_data"
    },
    {
     "name": "stdout",
     "output_type": "stream",
     "text": [
      "{'eval_loss': 1.0282690525054932, 'eval_runtime': 8.3342, 'eval_samples_per_second': 14.279, 'eval_steps_per_second': 1.8, 'epoch': 0.97}\n",
      "{'loss': 0.9813, 'grad_norm': 1.9092776775360107, 'learning_rate': 2.2000000000000003e-05, 'epoch': 0.99}\n",
      "{'loss': 0.8858, 'grad_norm': 1.7716407775878906, 'learning_rate': 2.15e-05, 'epoch': 1.01}\n",
      "{'loss': 0.8192, 'grad_norm': 1.9698286056518555, 'learning_rate': 2.1e-05, 'epoch': 1.03}\n",
      "{'loss': 0.7688, 'grad_norm': 1.7706907987594604, 'learning_rate': 2.05e-05, 'epoch': 1.04}\n",
      "{'loss': 0.8018, 'grad_norm': 1.7980353832244873, 'learning_rate': 2e-05, 'epoch': 1.06}\n"
     ]
    },
    {
     "data": {
      "application/vnd.jupyter.widget-view+json": {
       "model_id": "b310293209544f529e350b2146a70321",
       "version_major": 2,
       "version_minor": 0
      },
      "text/plain": [
       "  0%|          | 0/15 [00:00<?, ?it/s]"
      ]
     },
     "metadata": {},
     "output_type": "display_data"
    },
    {
     "name": "stdout",
     "output_type": "stream",
     "text": [
      "{'eval_loss': 1.0330897569656372, 'eval_runtime': 8.0618, 'eval_samples_per_second': 14.761, 'eval_steps_per_second': 1.861, 'epoch': 1.06}\n",
      "{'loss': 0.8795, 'grad_norm': 1.880040168762207, 'learning_rate': 1.9500000000000003e-05, 'epoch': 1.08}\n",
      "{'loss': 0.8653, 'grad_norm': 1.7578712701797485, 'learning_rate': 1.9e-05, 'epoch': 1.1}\n",
      "{'loss': 0.8588, 'grad_norm': 1.6869993209838867, 'learning_rate': 1.85e-05, 'epoch': 1.12}\n",
      "{'loss': 0.8052, 'grad_norm': 1.5877323150634766, 'learning_rate': 1.8e-05, 'epoch': 1.13}\n",
      "{'loss': 0.812, 'grad_norm': 1.807246208190918, 'learning_rate': 1.75e-05, 'epoch': 1.15}\n"
     ]
    },
    {
     "data": {
      "application/vnd.jupyter.widget-view+json": {
       "model_id": "5b44163aac0f4c72a07b91a7806f201e",
       "version_major": 2,
       "version_minor": 0
      },
      "text/plain": [
       "  0%|          | 0/15 [00:00<?, ?it/s]"
      ]
     },
     "metadata": {},
     "output_type": "display_data"
    },
    {
     "name": "stdout",
     "output_type": "stream",
     "text": [
      "{'eval_loss': 1.029893159866333, 'eval_runtime': 8.1886, 'eval_samples_per_second': 14.532, 'eval_steps_per_second': 1.832, 'epoch': 1.15}\n",
      "{'loss': 0.8324, 'grad_norm': 1.8108197450637817, 'learning_rate': 1.7000000000000003e-05, 'epoch': 1.17}\n",
      "{'loss': 0.7995, 'grad_norm': 1.8700745105743408, 'learning_rate': 1.65e-05, 'epoch': 1.19}\n",
      "{'loss': 0.804, 'grad_norm': 1.7573741674423218, 'learning_rate': 1.6000000000000003e-05, 'epoch': 1.2}\n",
      "{'loss': 0.8219, 'grad_norm': 1.7896506786346436, 'learning_rate': 1.55e-05, 'epoch': 1.22}\n",
      "{'loss': 0.7538, 'grad_norm': 2.068369150161743, 'learning_rate': 1.5e-05, 'epoch': 1.24}\n"
     ]
    },
    {
     "data": {
      "application/vnd.jupyter.widget-view+json": {
       "model_id": "49e0a264fec046539c580b055481e3d7",
       "version_major": 2,
       "version_minor": 0
      },
      "text/plain": [
       "  0%|          | 0/15 [00:00<?, ?it/s]"
      ]
     },
     "metadata": {},
     "output_type": "display_data"
    },
    {
     "name": "stdout",
     "output_type": "stream",
     "text": [
      "{'eval_loss': 1.031142234802246, 'eval_runtime': 8.9232, 'eval_samples_per_second': 13.336, 'eval_steps_per_second': 1.681, 'epoch': 1.24}\n",
      "{'loss': 0.7949, 'grad_norm': 1.8474863767623901, 'learning_rate': 1.45e-05, 'epoch': 1.26}\n",
      "{'loss': 0.8762, 'grad_norm': 1.949285626411438, 'learning_rate': 1.4000000000000001e-05, 'epoch': 1.27}\n",
      "{'loss': 0.8179, 'grad_norm': 1.764445185661316, 'learning_rate': 1.3500000000000001e-05, 'epoch': 1.29}\n",
      "{'loss': 0.8102, 'grad_norm': 1.7785218954086304, 'learning_rate': 1.3000000000000001e-05, 'epoch': 1.31}\n",
      "{'loss': 0.8559, 'grad_norm': 2.0464584827423096, 'learning_rate': 1.25e-05, 'epoch': 1.33}\n"
     ]
    },
    {
     "data": {
      "application/vnd.jupyter.widget-view+json": {
       "model_id": "32a76b60467e4f09aa46abf69fa44009",
       "version_major": 2,
       "version_minor": 0
      },
      "text/plain": [
       "  0%|          | 0/15 [00:00<?, ?it/s]"
      ]
     },
     "metadata": {},
     "output_type": "display_data"
    },
    {
     "name": "stdout",
     "output_type": "stream",
     "text": [
      "{'eval_loss': 1.0284500122070312, 'eval_runtime': 7.9802, 'eval_samples_per_second': 14.912, 'eval_steps_per_second': 1.88, 'epoch': 1.33}\n",
      "{'loss': 0.7838, 'grad_norm': 1.728073239326477, 'learning_rate': 1.2e-05, 'epoch': 1.35}\n",
      "{'loss': 0.8395, 'grad_norm': 1.8833394050598145, 'learning_rate': 1.1500000000000002e-05, 'epoch': 1.36}\n",
      "{'loss': 0.816, 'grad_norm': 1.9509010314941406, 'learning_rate': 1.1000000000000001e-05, 'epoch': 1.38}\n",
      "{'loss': 0.8421, 'grad_norm': 1.8404103517532349, 'learning_rate': 1.05e-05, 'epoch': 1.4}\n",
      "{'loss': 0.8103, 'grad_norm': 1.885988473892212, 'learning_rate': 1e-05, 'epoch': 1.42}\n"
     ]
    },
    {
     "data": {
      "application/vnd.jupyter.widget-view+json": {
       "model_id": "25529417801e43bb91f613c8eb7bf3c9",
       "version_major": 2,
       "version_minor": 0
      },
      "text/plain": [
       "  0%|          | 0/15 [00:00<?, ?it/s]"
      ]
     },
     "metadata": {},
     "output_type": "display_data"
    },
    {
     "name": "stdout",
     "output_type": "stream",
     "text": [
      "{'eval_loss': 1.0249043703079224, 'eval_runtime': 8.2372, 'eval_samples_per_second': 14.447, 'eval_steps_per_second': 1.821, 'epoch': 1.42}\n",
      "{'loss': 0.8002, 'grad_norm': 1.8514572381973267, 'learning_rate': 9.5e-06, 'epoch': 1.43}\n",
      "{'loss': 0.79, 'grad_norm': 1.8658199310302734, 'learning_rate': 9e-06, 'epoch': 1.45}\n",
      "{'loss': 0.8109, 'grad_norm': 1.729325294494629, 'learning_rate': 8.500000000000002e-06, 'epoch': 1.47}\n",
      "{'loss': 0.8277, 'grad_norm': 1.7971456050872803, 'learning_rate': 8.000000000000001e-06, 'epoch': 1.49}\n",
      "{'loss': 0.7769, 'grad_norm': 1.7759498357772827, 'learning_rate': 7.5e-06, 'epoch': 1.5}\n"
     ]
    },
    {
     "data": {
      "application/vnd.jupyter.widget-view+json": {
       "model_id": "b6fb08133bd14bef8f9f41d6bc05f224",
       "version_major": 2,
       "version_minor": 0
      },
      "text/plain": [
       "  0%|          | 0/15 [00:00<?, ?it/s]"
      ]
     },
     "metadata": {},
     "output_type": "display_data"
    },
    {
     "name": "stdout",
     "output_type": "stream",
     "text": [
      "{'eval_loss': 1.0252892971038818, 'eval_runtime': 8.3211, 'eval_samples_per_second': 14.301, 'eval_steps_per_second': 1.803, 'epoch': 1.5}\n",
      "{'loss': 0.7921, 'grad_norm': 1.8738757371902466, 'learning_rate': 7.000000000000001e-06, 'epoch': 1.52}\n",
      "{'loss': 0.7847, 'grad_norm': 1.9064098596572876, 'learning_rate': 6.5000000000000004e-06, 'epoch': 1.54}\n",
      "{'loss': 0.8347, 'grad_norm': 1.8188225030899048, 'learning_rate': 6e-06, 'epoch': 1.56}\n",
      "{'loss': 0.8143, 'grad_norm': 1.6828683614730835, 'learning_rate': 5.500000000000001e-06, 'epoch': 1.58}\n",
      "{'loss': 0.8237, 'grad_norm': 1.8386178016662598, 'learning_rate': 5e-06, 'epoch': 1.59}\n"
     ]
    },
    {
     "data": {
      "application/vnd.jupyter.widget-view+json": {
       "model_id": "9dad805d61ff48b881df993a30e00008",
       "version_major": 2,
       "version_minor": 0
      },
      "text/plain": [
       "  0%|          | 0/15 [00:00<?, ?it/s]"
      ]
     },
     "metadata": {},
     "output_type": "display_data"
    },
    {
     "name": "stdout",
     "output_type": "stream",
     "text": [
      "{'eval_loss': 1.0228322744369507, 'eval_runtime': 8.7641, 'eval_samples_per_second': 13.578, 'eval_steps_per_second': 1.712, 'epoch': 1.59}\n",
      "{'loss': 0.8331, 'grad_norm': 1.707677960395813, 'learning_rate': 4.5e-06, 'epoch': 1.61}\n",
      "{'loss': 0.8059, 'grad_norm': 1.804895281791687, 'learning_rate': 4.000000000000001e-06, 'epoch': 1.63}\n",
      "{'loss': 0.8107, 'grad_norm': 2.071960687637329, 'learning_rate': 3.5000000000000004e-06, 'epoch': 1.65}\n",
      "{'loss': 0.7932, 'grad_norm': 1.7174880504608154, 'learning_rate': 3e-06, 'epoch': 1.66}\n",
      "{'loss': 0.8623, 'grad_norm': 1.9924761056900024, 'learning_rate': 2.5e-06, 'epoch': 1.68}\n"
     ]
    },
    {
     "data": {
      "application/vnd.jupyter.widget-view+json": {
       "model_id": "9d6a4305108e4f9caa57908172b5e9ce",
       "version_major": 2,
       "version_minor": 0
      },
      "text/plain": [
       "  0%|          | 0/15 [00:00<?, ?it/s]"
      ]
     },
     "metadata": {},
     "output_type": "display_data"
    },
    {
     "name": "stdout",
     "output_type": "stream",
     "text": [
      "{'eval_loss': 1.0216660499572754, 'eval_runtime': 9.9001, 'eval_samples_per_second': 12.02, 'eval_steps_per_second': 1.515, 'epoch': 1.68}\n",
      "{'loss': 0.8609, 'grad_norm': 1.8237817287445068, 'learning_rate': 2.0000000000000003e-06, 'epoch': 1.7}\n",
      "{'loss': 0.7802, 'grad_norm': 1.7280333042144775, 'learning_rate': 1.5e-06, 'epoch': 1.72}\n",
      "{'loss': 0.7957, 'grad_norm': 1.7798824310302734, 'learning_rate': 1.0000000000000002e-06, 'epoch': 1.73}\n",
      "{'loss': 0.8345, 'grad_norm': 1.7968621253967285, 'learning_rate': 5.000000000000001e-07, 'epoch': 1.75}\n",
      "{'loss': 0.7915, 'grad_norm': 1.7643896341323853, 'learning_rate': 0.0, 'epoch': 1.77}\n"
     ]
    },
    {
     "data": {
      "application/vnd.jupyter.widget-view+json": {
       "model_id": "8bd0c423e8a84d54ac40f13f1a66245e",
       "version_major": 2,
       "version_minor": 0
      },
      "text/plain": [
       "  0%|          | 0/15 [00:00<?, ?it/s]"
      ]
     },
     "metadata": {},
     "output_type": "display_data"
    },
    {
     "name": "stdout",
     "output_type": "stream",
     "text": [
      "{'eval_loss': 1.0214804410934448, 'eval_runtime': 9.3396, 'eval_samples_per_second': 12.741, 'eval_steps_per_second': 1.606, 'epoch': 1.77}\n",
      "{'train_runtime': 2569.3532, 'train_samples_per_second': 1.557, 'train_steps_per_second': 0.389, 'train_loss': 0.9605698461532592, 'epoch': 1.77}\n"
     ]
    }
   ],
   "source": [
    "# Train the model\n",
    "trainer.train()\n",
    "\n",
    "# Save the model\n",
    "trainer.save_model(f\"./{finetune_name}\")"
   ]
  },
  {
   "cell_type": "code",
   "execution_count": 9,
   "metadata": {},
   "outputs": [
    {
     "data": {
      "application/vnd.jupyter.widget-view+json": {
       "model_id": "4c9e93933d97473e96c0c84d74c2d4a4",
       "version_major": 2,
       "version_minor": 0
      },
      "text/plain": [
       "Upload 2 LFS files:   0%|          | 0/2 [00:00<?, ?it/s]"
      ]
     },
     "metadata": {},
     "output_type": "display_data"
    },
    {
     "data": {
      "application/vnd.jupyter.widget-view+json": {
       "model_id": "dba4364e4df445fcbc5e9f5e42c07540",
       "version_major": 2,
       "version_minor": 0
      },
      "text/plain": [
       "training_args.bin:   0%|          | 0.00/5.56k [00:00<?, ?B/s]"
      ]
     },
     "metadata": {},
     "output_type": "display_data"
    },
    {
     "data": {
      "application/vnd.jupyter.widget-view+json": {
       "model_id": "ac1f73a6351b418486ddf6542938adef",
       "version_major": 2,
       "version_minor": 0
      },
      "text/plain": [
       "model.safetensors:   0%|          | 0.00/538M [00:00<?, ?B/s]"
      ]
     },
     "metadata": {},
     "output_type": "display_data"
    },
    {
     "data": {
      "text/plain": [
       "CommitInfo(commit_url='https://huggingface.co/odinushuaia/SmolLM2-FT-MyDataset/commit/6fdd51dc705f01717a0dd9996d0d690ac1b84121', commit_message='End of training', commit_description='', oid='6fdd51dc705f01717a0dd9996d0d690ac1b84121', pr_url=None, repo_url=RepoUrl('https://huggingface.co/odinushuaia/SmolLM2-FT-MyDataset', endpoint='https://huggingface.co', repo_type='model', repo_id='odinushuaia/SmolLM2-FT-MyDataset'), pr_revision=None, pr_num=None)"
      ]
     },
     "execution_count": 9,
     "metadata": {},
     "output_type": "execute_result"
    },
    {
     "ename": "",
     "evalue": "",
     "output_type": "error",
     "traceback": [
      "\u001b[1;31mThe Kernel crashed while executing code in the current cell or a previous cell. \n",
      "\u001b[1;31mPlease review the code in the cell(s) to identify a possible cause of the failure. \n",
      "\u001b[1;31mClick <a href='https://aka.ms/vscodeJupyterKernelCrash'>here</a> for more info. \n",
      "\u001b[1;31mView Jupyter <a href='command:jupyter.viewOutput'>log</a> for further details."
     ]
    }
   ],
   "source": [
    "trainer.push_to_hub(tags=finetune_tags)"
   ]
  },
  {
   "cell_type": "markdown",
   "metadata": {},
   "source": [
    "<div style='background-color: lightblue; padding: 10px; border-radius: 5px; margin-bottom: 20px; color:black'>\n",
    "    <h2 style='margin: 0;color:blue'>Bonus Exercise: Generate with fine-tuned model</h2>\n",
    "    <p>🐕 Use the fine-tuned to model generate a response, just like with the base example..</p>\n",
    "</div>\n"
   ]
  },
  {
   "cell_type": "code",
   "execution_count": 4,
   "metadata": {},
   "outputs": [
    {
     "name": "stdout",
     "output_type": "stream",
     "text": [
      "after training:\n",
      "user\n",
      "Write a haiku about programming\n",
      "assistant\n",
      "Hello! How can I help you today? I'm going to write a haiku about programming. What's programming? It's a type of art where you create a sequence of steps to solve a problem. Think of it like a recipe. You follow the steps, and then you see the result. Can you think of any programming languages? Python, Java, or JavaScript are all popular ones. What's the most popular programming language right now? Python is very popular,\n"
     ]
    }
   ],
   "source": [
    "# Test the fine-tuned model on the same prompt\n",
    "\n",
    "# Let's test the base model before training\n",
    "prompt = \"Write a haiku about programming\"\n",
    "\n",
    "# Format with template\n",
    "messages = [{\"role\": \"user\", \"content\": prompt}]\n",
    "\n",
    "\n",
    "# TODO: use the fine-tuned to model generate a response, just like with the base example.\n",
    "\n",
    "# Load the model and tokenizer\n",
    "ft_model_name = \"odinushuaia/SmolLM2-FT-MyDataset\"\n",
    "ft_model = AutoModelForCausalLM.from_pretrained(\n",
    "    pretrained_model_name_or_path=ft_model_name\n",
    ").to(device)\n",
    "ft_tokenizer = AutoTokenizer.from_pretrained(\n",
    "    pretrained_model_name_or_path=ft_model_name\n",
    ")\n",
    "# Generate response\n",
    "formatted_prompt = ft_tokenizer.apply_chat_template(messages, tokenize=False)\n",
    "inputs = ft_tokenizer(formatted_prompt, return_tensors=\"pt\").to(device)\n",
    "outputs = ft_model.generate(**inputs, max_new_tokens=100)\n",
    "print(\"after training:\")\n",
    "print(ft_tokenizer.decode(outputs[0], skip_special_tokens=True))"
   ]
  },
  {
   "cell_type": "markdown",
   "metadata": {},
   "source": [
    "## 💐 You're done!\n",
    "\n",
    "This notebook provided a step-by-step guide to fine-tuning the `HuggingFaceTB/SmolLM2-135M` model using the `SFTTrainer`. By following these steps, you can adapt the model to perform specific tasks more effectively. If you want to carry on working on this course, here are steps you could try out:\n",
    "\n",
    "- Try this notebook on a harder difficulty\n",
    "- Review a colleagues PR\n",
    "- Improve the course material via an Issue or PR.\n"
   ]
  }
 ],
 "metadata": {
  "kernelspec": {
   "display_name": ".venv",
   "language": "python",
   "name": "python3"
  },
  "language_info": {
   "codemirror_mode": {
    "name": "ipython",
    "version": 3
   },
   "file_extension": ".py",
   "mimetype": "text/x-python",
   "name": "python",
   "nbconvert_exporter": "python",
   "pygments_lexer": "ipython3",
   "version": "3.11.11"
  }
 },
 "nbformat": 4,
 "nbformat_minor": 2
}
